{
  "nbformat": 4,
  "nbformat_minor": 0,
  "metadata": {
    "colab": {
      "provenance": [],
      "authorship_tag": "ABX9TyNdCeUBU+AN0s1m5n3JRFUS",
      "include_colab_link": true
    },
    "kernelspec": {
      "name": "python3",
      "display_name": "Python 3"
    },
    "language_info": {
      "name": "python"
    }
  },
  "cells": [
    {
      "cell_type": "markdown",
      "metadata": {
        "id": "view-in-github",
        "colab_type": "text"
      },
      "source": [
        "<a href=\"https://colab.research.google.com/github/muthiearml/MachineLearning/blob/main/(Lecture3)DecissionTree-MuthieArmaliaS.ipynb\" target=\"_parent\"><img src=\"https://colab.research.google.com/assets/colab-badge.svg\" alt=\"Open In Colab\"/></a>"
      ]
    },
    {
      "cell_type": "markdown",
      "source": [
        "# Lecture 3\n",
        "###Muthie armalia\n",
        "###1103200178"
      ],
      "metadata": {
        "id": "tr4YrGtEFFxy"
      }
    },
    {
      "cell_type": "code",
      "source": [
        "# Import library yang diperlukan\n",
        "import pandas as pd\n",
        "from sklearn import datasets\n",
        "\n",
        "# Muat dataset Iris dari scikit-learn\n",
        "iris = datasets.load_iris()\n",
        "\n",
        "# Ubah dataset menjadi dataframe\n",
        "iris_df = pd.DataFrame(data=iris.data, columns=iris.feature_names)\n",
        "\n",
        "# Tambahkan kolom target ke dataframe\n",
        "iris_df['target'] = iris.target\n",
        "\n",
        "# Tampilkan beberapa baris pertama dari dataframe\n",
        "print(iris_df.head())"
      ],
      "metadata": {
        "colab": {
          "base_uri": "https://localhost:8080/"
        },
        "id": "nAb8Aeg_E9r2",
        "outputId": "1dc57207-9d6f-4949-ae32-629f76a53b00"
      },
      "execution_count": null,
      "outputs": [
        {
          "output_type": "stream",
          "name": "stdout",
          "text": [
            "   sepal length (cm)  sepal width (cm)  petal length (cm)  petal width (cm)  \\\n",
            "0                5.1               3.5                1.4               0.2   \n",
            "1                4.9               3.0                1.4               0.2   \n",
            "2                4.7               3.2                1.3               0.2   \n",
            "3                4.6               3.1                1.5               0.2   \n",
            "4                5.0               3.6                1.4               0.2   \n",
            "\n",
            "   target  \n",
            "0       0  \n",
            "1       0  \n",
            "2       0  \n",
            "3       0  \n",
            "4       0  \n"
          ]
        }
      ]
    },
    {
      "cell_type": "code",
      "execution_count": null,
      "metadata": {
        "colab": {
          "base_uri": "https://localhost:8080/"
        },
        "id": "IHmG1ojeEBW9",
        "outputId": "58870b06-8118-4446-97ff-ec2a84a869b9"
      },
      "outputs": [
        {
          "output_type": "stream",
          "name": "stdout",
          "text": [
            "<class 'pandas.core.frame.DataFrame'>\n",
            "RangeIndex: 150 entries, 0 to 149\n",
            "Data columns (total 5 columns):\n",
            " #   Column             Non-Null Count  Dtype  \n",
            "---  ------             --------------  -----  \n",
            " 0   sepal length (cm)  150 non-null    float64\n",
            " 1   sepal width (cm)   150 non-null    float64\n",
            " 2   petal length (cm)  150 non-null    float64\n",
            " 3   petal width (cm)   150 non-null    float64\n",
            " 4   target             150 non-null    int64  \n",
            "dtypes: float64(4), int64(1)\n",
            "memory usage: 6.0 KB\n"
          ]
        }
      ],
      "source": [
        "iris_df.info()"
      ]
    },
    {
      "cell_type": "code",
      "source": [
        "# Menampilkan nilai unik pada kolom target\n",
        "unique_targets = iris_df['target'].unique()\n",
        "print(\"Nilai unik pada kolom target:\", unique_targets)\n",
        "\n",
        "# Menampilkan jumlah nilai unik pada kolom numerik lainnya\n",
        "print(\"Jumlah nilai unik pada kolom Sepal Length (cm):\", iris_df['sepal length (cm)'].nunique())\n",
        "print(\"Jumlah nilai unik pada kolom Sepal Width (cm):\", iris_df['sepal width (cm)'].nunique())\n",
        "print(\"Jumlah nilai unik pada kolom Petal Length (cm):\", iris_df['petal length (cm)'].nunique())\n",
        "print(\"Jumlah nilai unik pada kolom Petal Width (cm):\", iris_df['petal width (cm)'].nunique())\n"
      ],
      "metadata": {
        "colab": {
          "base_uri": "https://localhost:8080/"
        },
        "id": "yLLD81m9Fzon",
        "outputId": "7e155848-cde9-4201-bac8-06da1dbcea98"
      },
      "execution_count": null,
      "outputs": [
        {
          "output_type": "stream",
          "name": "stdout",
          "text": [
            "Nilai unik pada kolom target: [0 1 2]\n",
            "Jumlah nilai unik pada kolom Sepal Length (cm): 35\n",
            "Jumlah nilai unik pada kolom Sepal Width (cm): 23\n",
            "Jumlah nilai unik pada kolom Petal Length (cm): 43\n",
            "Jumlah nilai unik pada kolom Petal Width (cm): 22\n"
          ]
        }
      ]
    },
    {
      "cell_type": "code",
      "source": [
        "# Definisikan kolom atribut\n",
        "atribut = iris_df[['sepal length (cm)', 'sepal width (cm)', 'petal length (cm)', 'petal width (cm)']]\n",
        "\n",
        "# Definisikan kolom target\n",
        "target = iris_df['target']"
      ],
      "metadata": {
        "id": "kj9_gxaJGDBK"
      },
      "execution_count": null,
      "outputs": []
    },
    {
      "cell_type": "code",
      "source": [
        "# Import library yang diperlukan\n",
        "from sklearn.tree import DecisionTreeClassifier\n",
        "from sklearn.model_selection import train_test_split\n",
        "from sklearn.metrics import accuracy_score"
      ],
      "metadata": {
        "id": "JNnbWPGnG-PU"
      },
      "execution_count": null,
      "outputs": []
    },
    {
      "cell_type": "code",
      "source": [
        "# Definisikan atribut dan target\n",
        "atribut = iris_df[['sepal length (cm)', 'sepal width (cm)', 'petal length (cm)', 'petal width (cm)']]\n",
        "target = iris_df['target']"
      ],
      "metadata": {
        "id": "oiWBqU2rHz3M"
      },
      "execution_count": null,
      "outputs": []
    },
    {
      "cell_type": "code",
      "source": [
        "# Bagi dataset menjadi data latih dan data uji\n",
        "X_train, X_test, y_train, y_test = train_test_split(atribut, target, test_size=0.2, random_state=42)"
      ],
      "metadata": {
        "id": "x4qUZQ1KIHLN"
      },
      "execution_count": null,
      "outputs": []
    },
    {
      "cell_type": "code",
      "source": [
        "# Buat model Decision Tree\n",
        "clf = DecisionTreeClassifier(random_state=42)"
      ],
      "metadata": {
        "id": "xaJtpM6sIIzX"
      },
      "execution_count": null,
      "outputs": []
    },
    {
      "cell_type": "code",
      "source": [
        "# Latih model pada data latih\n",
        "clf.fit(X_train, y_train)"
      ],
      "metadata": {
        "colab": {
          "base_uri": "https://localhost:8080/",
          "height": 74
        },
        "id": "L7rkobojIUXe",
        "outputId": "3a6fad0d-cac2-4db3-9c4f-5bb313e15fb1"
      },
      "execution_count": null,
      "outputs": [
        {
          "output_type": "execute_result",
          "data": {
            "text/plain": [
              "DecisionTreeClassifier(random_state=42)"
            ],
            "text/html": [
              "<style>#sk-container-id-1 {color: black;background-color: white;}#sk-container-id-1 pre{padding: 0;}#sk-container-id-1 div.sk-toggleable {background-color: white;}#sk-container-id-1 label.sk-toggleable__label {cursor: pointer;display: block;width: 100%;margin-bottom: 0;padding: 0.3em;box-sizing: border-box;text-align: center;}#sk-container-id-1 label.sk-toggleable__label-arrow:before {content: \"▸\";float: left;margin-right: 0.25em;color: #696969;}#sk-container-id-1 label.sk-toggleable__label-arrow:hover:before {color: black;}#sk-container-id-1 div.sk-estimator:hover label.sk-toggleable__label-arrow:before {color: black;}#sk-container-id-1 div.sk-toggleable__content {max-height: 0;max-width: 0;overflow: hidden;text-align: left;background-color: #f0f8ff;}#sk-container-id-1 div.sk-toggleable__content pre {margin: 0.2em;color: black;border-radius: 0.25em;background-color: #f0f8ff;}#sk-container-id-1 input.sk-toggleable__control:checked~div.sk-toggleable__content {max-height: 200px;max-width: 100%;overflow: auto;}#sk-container-id-1 input.sk-toggleable__control:checked~label.sk-toggleable__label-arrow:before {content: \"▾\";}#sk-container-id-1 div.sk-estimator input.sk-toggleable__control:checked~label.sk-toggleable__label {background-color: #d4ebff;}#sk-container-id-1 div.sk-label input.sk-toggleable__control:checked~label.sk-toggleable__label {background-color: #d4ebff;}#sk-container-id-1 input.sk-hidden--visually {border: 0;clip: rect(1px 1px 1px 1px);clip: rect(1px, 1px, 1px, 1px);height: 1px;margin: -1px;overflow: hidden;padding: 0;position: absolute;width: 1px;}#sk-container-id-1 div.sk-estimator {font-family: monospace;background-color: #f0f8ff;border: 1px dotted black;border-radius: 0.25em;box-sizing: border-box;margin-bottom: 0.5em;}#sk-container-id-1 div.sk-estimator:hover {background-color: #d4ebff;}#sk-container-id-1 div.sk-parallel-item::after {content: \"\";width: 100%;border-bottom: 1px solid gray;flex-grow: 1;}#sk-container-id-1 div.sk-label:hover label.sk-toggleable__label {background-color: #d4ebff;}#sk-container-id-1 div.sk-serial::before {content: \"\";position: absolute;border-left: 1px solid gray;box-sizing: border-box;top: 0;bottom: 0;left: 50%;z-index: 0;}#sk-container-id-1 div.sk-serial {display: flex;flex-direction: column;align-items: center;background-color: white;padding-right: 0.2em;padding-left: 0.2em;position: relative;}#sk-container-id-1 div.sk-item {position: relative;z-index: 1;}#sk-container-id-1 div.sk-parallel {display: flex;align-items: stretch;justify-content: center;background-color: white;position: relative;}#sk-container-id-1 div.sk-item::before, #sk-container-id-1 div.sk-parallel-item::before {content: \"\";position: absolute;border-left: 1px solid gray;box-sizing: border-box;top: 0;bottom: 0;left: 50%;z-index: -1;}#sk-container-id-1 div.sk-parallel-item {display: flex;flex-direction: column;z-index: 1;position: relative;background-color: white;}#sk-container-id-1 div.sk-parallel-item:first-child::after {align-self: flex-end;width: 50%;}#sk-container-id-1 div.sk-parallel-item:last-child::after {align-self: flex-start;width: 50%;}#sk-container-id-1 div.sk-parallel-item:only-child::after {width: 0;}#sk-container-id-1 div.sk-dashed-wrapped {border: 1px dashed gray;margin: 0 0.4em 0.5em 0.4em;box-sizing: border-box;padding-bottom: 0.4em;background-color: white;}#sk-container-id-1 div.sk-label label {font-family: monospace;font-weight: bold;display: inline-block;line-height: 1.2em;}#sk-container-id-1 div.sk-label-container {text-align: center;}#sk-container-id-1 div.sk-container {/* jupyter's `normalize.less` sets `[hidden] { display: none; }` but bootstrap.min.css set `[hidden] { display: none !important; }` so we also need the `!important` here to be able to override the default hidden behavior on the sphinx rendered scikit-learn.org. See: https://github.com/scikit-learn/scikit-learn/issues/21755 */display: inline-block !important;position: relative;}#sk-container-id-1 div.sk-text-repr-fallback {display: none;}</style><div id=\"sk-container-id-1\" class=\"sk-top-container\"><div class=\"sk-text-repr-fallback\"><pre>DecisionTreeClassifier(random_state=42)</pre><b>In a Jupyter environment, please rerun this cell to show the HTML representation or trust the notebook. <br />On GitHub, the HTML representation is unable to render, please try loading this page with nbviewer.org.</b></div><div class=\"sk-container\" hidden><div class=\"sk-item\"><div class=\"sk-estimator sk-toggleable\"><input class=\"sk-toggleable__control sk-hidden--visually\" id=\"sk-estimator-id-1\" type=\"checkbox\" checked><label for=\"sk-estimator-id-1\" class=\"sk-toggleable__label sk-toggleable__label-arrow\">DecisionTreeClassifier</label><div class=\"sk-toggleable__content\"><pre>DecisionTreeClassifier(random_state=42)</pre></div></div></div></div></div>"
            ]
          },
          "metadata": {},
          "execution_count": 9
        }
      ]
    },
    {
      "cell_type": "code",
      "source": [
        "# Lakukan prediksi pada data uji\n",
        "y_pred = clf.predict(X_test)"
      ],
      "metadata": {
        "id": "gw5YtVYmIWd2"
      },
      "execution_count": null,
      "outputs": []
    },
    {
      "cell_type": "code",
      "source": [
        "# Hitung akurasi model\n",
        "accuracy = accuracy_score(y_test, y_pred)\n",
        "print(\"Akurasi Decision Tree:\", accuracy)"
      ],
      "metadata": {
        "colab": {
          "base_uri": "https://localhost:8080/"
        },
        "id": "1FMxJmmVIdF4",
        "outputId": "cdf553aa-9960-4260-aa55-8cc8b9798a8a"
      },
      "execution_count": null,
      "outputs": [
        {
          "output_type": "stream",
          "name": "stdout",
          "text": [
            "Akurasi Decision Tree: 1.0\n"
          ]
        }
      ]
    },
    {
      "cell_type": "code",
      "source": [
        "!pip install graphviz"
      ],
      "metadata": {
        "colab": {
          "base_uri": "https://localhost:8080/"
        },
        "id": "FmbdFzqeJHxO",
        "outputId": "84fd6c06-e19f-48fd-86ef-4aae44841854"
      },
      "execution_count": null,
      "outputs": [
        {
          "output_type": "stream",
          "name": "stdout",
          "text": [
            "Requirement already satisfied: graphviz in /usr/local/lib/python3.10/dist-packages (0.20.1)\n"
          ]
        }
      ]
    },
    {
      "cell_type": "code",
      "source": [
        "# Import library yang diperlukan\n",
        "from sklearn.tree import export_graphviz\n",
        "import graphviz\n",
        "\n",
        "# Export grafik Decision Tree ke dalam format DOT\n",
        "dot_data = export_graphviz(clf, out_file=None,\n",
        "                            feature_names=atribut.columns,\n",
        "                            class_names=iris.target_names,\n",
        "                            filled=True, rounded=True,\n",
        "                            special_characters=True)\n",
        "\n",
        "# Membuat objek grafik dari data DOT\n",
        "graph = graphviz.Source(dot_data)\n",
        "\n",
        "# Menampilkan grafik Decision Tree\n",
        "graph.render(\"iris_decision_tree\")  # Simpan grafik sebagai file \"iris_decision_tree.pdf\"\n",
        "graph.view(\"iris_decision_tree\")    # Tampilkan grafik dalam viewer (harus tersedia Graphviz di sistem Anda)\n"
      ],
      "metadata": {
        "colab": {
          "base_uri": "https://localhost:8080/",
          "height": 36
        },
        "id": "0m95v4Z1JK3c",
        "outputId": "cc92fc0f-6115-4baa-fe64-d265d36cf128"
      },
      "execution_count": null,
      "outputs": [
        {
          "output_type": "execute_result",
          "data": {
            "text/plain": [
              "'iris_decision_tree.pdf'"
            ],
            "application/vnd.google.colaboratory.intrinsic+json": {
              "type": "string"
            }
          },
          "metadata": {},
          "execution_count": 14
        }
      ]
    },
    {
      "cell_type": "markdown",
      "source": [
        "# Belajar Penggunaan random_state\n"
      ],
      "metadata": {
        "id": "Zq9uRz21Kvci"
      }
    },
    {
      "cell_type": "code",
      "source": [
        "import pandas as pd\n",
        "from sklearn import datasets\n",
        "from sklearn.model_selection import train_test_split\n",
        "\n",
        "# Muat dataset Iris dari scikit-learn\n",
        "iris = datasets.load_iris()\n",
        "\n",
        "# Ubah dataset menjadi dataframe\n",
        "iris_df = pd.DataFrame(data=iris.data, columns=iris.feature_names)\n",
        "iris_df['target'] = iris.target\n",
        "\n",
        "# Pisahkan data tanpa random_state\n",
        "X_train_no_random, X_test_no_random, _, _ = train_test_split(\n",
        "    iris_df.drop('target', axis=1), iris_df['target'], test_size=0.2)\n",
        "\n",
        "# Pisahkan data dengan random_state\n",
        "X_train_with_random, X_test_with_random, _, _ = train_test_split(\n",
        "    iris_df.drop('target', axis=1), iris_df['target'], test_size=0.2, random_state=42)\n",
        "\n",
        "# Tampilkan tabel untuk perbedaan pemisahan data\n",
        "comparison_df = pd.DataFrame({\n",
        "    'Feature': iris_df.columns[:-1],\n",
        "    'Data Latih Tanpa random_state': X_train_no_random.mean(),\n",
        "    'Data Latih Dengan random_state': X_train_with_random.mean()\n",
        "})\n",
        "print(comparison_df)\n"
      ],
      "metadata": {
        "colab": {
          "base_uri": "https://localhost:8080/"
        },
        "id": "ZDX6o7i2J4Tg",
        "outputId": "bcea5ff5-3f8f-4ecd-97c1-f48e3533286e"
      },
      "execution_count": null,
      "outputs": [
        {
          "output_type": "stream",
          "name": "stdout",
          "text": [
            "                             Feature  Data Latih Tanpa random_state  \\\n",
            "sepal length (cm)  sepal length (cm)                       5.825000   \n",
            "sepal width (cm)    sepal width (cm)                       3.062500   \n",
            "petal length (cm)  petal length (cm)                       3.680000   \n",
            "petal width (cm)    petal width (cm)                       1.156667   \n",
            "\n",
            "                   Data Latih Dengan random_state  \n",
            "sepal length (cm)                        5.809167  \n",
            "sepal width (cm)                         3.061667  \n",
            "petal length (cm)                        3.726667  \n",
            "petal width (cm)                         1.183333  \n"
          ]
        }
      ]
    }
  ]
}