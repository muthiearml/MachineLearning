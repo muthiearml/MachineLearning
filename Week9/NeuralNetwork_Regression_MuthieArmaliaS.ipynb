{
  "nbformat": 4,
  "nbformat_minor": 0,
  "metadata": {
    "colab": {
      "provenance": [],
      "authorship_tag": "ABX9TyOho3DPUTZo6j1qNU1+Yj+q",
      "include_colab_link": true
    },
    "kernelspec": {
      "name": "python3",
      "display_name": "Python 3"
    },
    "language_info": {
      "name": "python"
    }
  },
  "cells": [
    {
      "cell_type": "markdown",
      "metadata": {
        "id": "view-in-github",
        "colab_type": "text"
      },
      "source": [
        "<a href=\"https://colab.research.google.com/github/muthiearml/MachineLearning/blob/main/Week9/NeuralNetwork_Regression_MuthieArmaliaS.ipynb\" target=\"_parent\"><img src=\"https://colab.research.google.com/assets/colab-badge.svg\" alt=\"Open In Colab\"/></a>"
      ]
    },
    {
      "cell_type": "markdown",
      "source": [
        "### Muthie Armalia Soeriamaritsa\n",
        "#### 1103200178\n"
      ],
      "metadata": {
        "id": "SoiLkmzZMlJ9"
      }
    },
    {
      "cell_type": "code",
      "execution_count": 4,
      "metadata": {
        "id": "UFaaUurEMRN6"
      },
      "outputs": [],
      "source": [
        "import numpy as np\n",
        "from sklearn.model_selection import train_test_split\n",
        "from sklearn.metrics import mean_squared_error\n",
        "from tensorflow.keras.models import Sequential\n",
        "from tensorflow.keras.layers import Dense"
      ]
    },
    {
      "cell_type": "code",
      "source": [
        "# Contoh data regresi\n",
        "np.random.seed(42)\n",
        "X = 2 * np.random.rand(100, 1)\n",
        "y = 4 + 3 * X + np.random.randn(100, 1)"
      ],
      "metadata": {
        "id": "AI1XeOXjNffF"
      },
      "execution_count": 5,
      "outputs": []
    },
    {
      "cell_type": "code",
      "source": [
        "# Bagi data menjadi set pelatihan dan set pengujian\n",
        "X_train, X_test, y_train, y_test = train_test_split(X, y, test_size=0.2, random_state=42)"
      ],
      "metadata": {
        "id": "HW14L3MCNke3"
      },
      "execution_count": 6,
      "outputs": []
    },
    {
      "cell_type": "code",
      "source": [
        "# Buat model neural network\n",
        "model = Sequential()\n",
        "model.add(Dense(10, input_dim=1, activation='relu'))\n",
        "model.add(Dense(1, activation='linear'))"
      ],
      "metadata": {
        "id": "PXTjP8znNnb4"
      },
      "execution_count": 7,
      "outputs": []
    },
    {
      "cell_type": "code",
      "source": [
        "# Compile model\n",
        "model.compile(loss='mean_squared_error', optimizer='adam')"
      ],
      "metadata": {
        "id": "sLoXtI6BNqCF"
      },
      "execution_count": 8,
      "outputs": []
    },
    {
      "cell_type": "code",
      "source": [
        "# Latih model\n",
        "model.fit(X_train, y_train, epochs=50, batch_size=32, verbose=1)"
      ],
      "metadata": {
        "colab": {
          "base_uri": "https://localhost:8080/"
        },
        "id": "5QSOxw02NsMU",
        "outputId": "510c5269-d33e-41dd-e1ae-f30bbc0cf21b"
      },
      "execution_count": 9,
      "outputs": [
        {
          "output_type": "stream",
          "name": "stdout",
          "text": [
            "Epoch 1/50\n",
            "3/3 [==============================] - 1s 8ms/step - loss: 46.5464\n",
            "Epoch 2/50\n",
            "3/3 [==============================] - 0s 5ms/step - loss: 46.3015\n",
            "Epoch 3/50\n",
            "3/3 [==============================] - 0s 5ms/step - loss: 46.0607\n",
            "Epoch 4/50\n",
            "3/3 [==============================] - 0s 4ms/step - loss: 45.8114\n",
            "Epoch 5/50\n",
            "3/3 [==============================] - 0s 4ms/step - loss: 45.5689\n",
            "Epoch 6/50\n",
            "3/3 [==============================] - 0s 4ms/step - loss: 45.3216\n",
            "Epoch 7/50\n",
            "3/3 [==============================] - 0s 3ms/step - loss: 45.0837\n",
            "Epoch 8/50\n",
            "3/3 [==============================] - 0s 4ms/step - loss: 44.8416\n",
            "Epoch 9/50\n",
            "3/3 [==============================] - 0s 7ms/step - loss: 44.5956\n",
            "Epoch 10/50\n",
            "3/3 [==============================] - 0s 7ms/step - loss: 44.3539\n",
            "Epoch 11/50\n",
            "3/3 [==============================] - 0s 6ms/step - loss: 44.1162\n",
            "Epoch 12/50\n",
            "3/3 [==============================] - 0s 5ms/step - loss: 43.8760\n",
            "Epoch 13/50\n",
            "3/3 [==============================] - 0s 5ms/step - loss: 43.6308\n",
            "Epoch 14/50\n",
            "3/3 [==============================] - 0s 5ms/step - loss: 43.3943\n",
            "Epoch 15/50\n",
            "3/3 [==============================] - 0s 4ms/step - loss: 43.1507\n",
            "Epoch 16/50\n",
            "3/3 [==============================] - 0s 6ms/step - loss: 42.9191\n",
            "Epoch 17/50\n",
            "3/3 [==============================] - 0s 5ms/step - loss: 42.6768\n",
            "Epoch 18/50\n",
            "3/3 [==============================] - 0s 5ms/step - loss: 42.4421\n",
            "Epoch 19/50\n",
            "3/3 [==============================] - 0s 4ms/step - loss: 42.1925\n",
            "Epoch 20/50\n",
            "3/3 [==============================] - 0s 4ms/step - loss: 41.9602\n",
            "Epoch 21/50\n",
            "3/3 [==============================] - 0s 4ms/step - loss: 41.7304\n",
            "Epoch 22/50\n",
            "3/3 [==============================] - 0s 4ms/step - loss: 41.4848\n",
            "Epoch 23/50\n",
            "3/3 [==============================] - 0s 4ms/step - loss: 41.2547\n",
            "Epoch 24/50\n",
            "3/3 [==============================] - 0s 4ms/step - loss: 41.0154\n",
            "Epoch 25/50\n",
            "3/3 [==============================] - 0s 4ms/step - loss: 40.7701\n",
            "Epoch 26/50\n",
            "3/3 [==============================] - 0s 4ms/step - loss: 40.5391\n",
            "Epoch 27/50\n",
            "3/3 [==============================] - 0s 5ms/step - loss: 40.2987\n",
            "Epoch 28/50\n",
            "3/3 [==============================] - 0s 4ms/step - loss: 40.0631\n",
            "Epoch 29/50\n",
            "3/3 [==============================] - 0s 5ms/step - loss: 39.8277\n",
            "Epoch 30/50\n",
            "3/3 [==============================] - 0s 4ms/step - loss: 39.5832\n",
            "Epoch 31/50\n",
            "3/3 [==============================] - 0s 4ms/step - loss: 39.3552\n",
            "Epoch 32/50\n",
            "3/3 [==============================] - 0s 4ms/step - loss: 39.1161\n",
            "Epoch 33/50\n",
            "3/3 [==============================] - 0s 4ms/step - loss: 38.8719\n",
            "Epoch 34/50\n",
            "3/3 [==============================] - 0s 4ms/step - loss: 38.6367\n",
            "Epoch 35/50\n",
            "3/3 [==============================] - 0s 4ms/step - loss: 38.4016\n",
            "Epoch 36/50\n",
            "3/3 [==============================] - 0s 4ms/step - loss: 38.1569\n",
            "Epoch 37/50\n",
            "3/3 [==============================] - 0s 5ms/step - loss: 37.9239\n",
            "Epoch 38/50\n",
            "3/3 [==============================] - 0s 4ms/step - loss: 37.6847\n",
            "Epoch 39/50\n",
            "3/3 [==============================] - 0s 5ms/step - loss: 37.4450\n",
            "Epoch 40/50\n",
            "3/3 [==============================] - 0s 5ms/step - loss: 37.2080\n",
            "Epoch 41/50\n",
            "3/3 [==============================] - 0s 4ms/step - loss: 36.9759\n",
            "Epoch 42/50\n",
            "3/3 [==============================] - 0s 5ms/step - loss: 36.7374\n",
            "Epoch 43/50\n",
            "3/3 [==============================] - 0s 5ms/step - loss: 36.5049\n",
            "Epoch 44/50\n",
            "3/3 [==============================] - 0s 6ms/step - loss: 36.2623\n",
            "Epoch 45/50\n",
            "3/3 [==============================] - 0s 4ms/step - loss: 36.0251\n",
            "Epoch 46/50\n",
            "3/3 [==============================] - 0s 5ms/step - loss: 35.7976\n",
            "Epoch 47/50\n",
            "3/3 [==============================] - 0s 4ms/step - loss: 35.5582\n",
            "Epoch 48/50\n",
            "3/3 [==============================] - 0s 4ms/step - loss: 35.3242\n",
            "Epoch 49/50\n",
            "3/3 [==============================] - 0s 4ms/step - loss: 35.0889\n",
            "Epoch 50/50\n",
            "3/3 [==============================] - 0s 4ms/step - loss: 34.8632\n"
          ]
        },
        {
          "output_type": "execute_result",
          "data": {
            "text/plain": [
              "<keras.src.callbacks.History at 0x7f9027223b80>"
            ]
          },
          "metadata": {},
          "execution_count": 9
        }
      ]
    },
    {
      "cell_type": "code",
      "source": [
        "# Evaluasi model pada set pengujian\n",
        "y_pred = model.predict(X_test)"
      ],
      "metadata": {
        "colab": {
          "base_uri": "https://localhost:8080/"
        },
        "id": "mnxCdL3dNvLI",
        "outputId": "9d64e7a1-cf59-4bbc-9eb2-34c552ee8dd9"
      },
      "execution_count": 10,
      "outputs": [
        {
          "output_type": "stream",
          "name": "stdout",
          "text": [
            "1/1 [==============================] - 0s 87ms/step\n"
          ]
        }
      ]
    },
    {
      "cell_type": "code",
      "source": [
        "# Hitung mean squared error\n",
        "mse = mean_squared_error(y_test, y_pred)\n",
        "print(f'Mean Squared Error on Test Set: {mse}')"
      ],
      "metadata": {
        "colab": {
          "base_uri": "https://localhost:8080/"
        },
        "id": "Qp1W96NsNxtX",
        "outputId": "288e24a9-eb6d-45c7-ac6a-1852e8956ec0"
      },
      "execution_count": 11,
      "outputs": [
        {
          "output_type": "stream",
          "name": "stdout",
          "text": [
            "Mean Squared Error on Test Set: 37.57504603004349\n"
          ]
        }
      ]
    }
  ]
}