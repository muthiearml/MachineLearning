{
  "nbformat": 4,
  "nbformat_minor": 0,
  "metadata": {
    "colab": {
      "provenance": [],
      "include_colab_link": true
    },
    "kernelspec": {
      "name": "python3",
      "display_name": "Python 3"
    },
    "language_info": {
      "name": "python"
    }
  },
  "cells": [
    {
      "cell_type": "markdown",
      "metadata": {
        "id": "view-in-github",
        "colab_type": "text"
      },
      "source": [
        "<a href=\"https://colab.research.google.com/github/muthiearml/MachineLearning/blob/main/(Lecture5)10_PCA_VARIANCE_ATTRIBUTE_MuthieArmaliaS_1103200178.ipynb\" target=\"_parent\"><img src=\"https://colab.research.google.com/assets/colab-badge.svg\" alt=\"Open In Colab\"/></a>"
      ]
    },
    {
      "cell_type": "code",
      "metadata": {
        "id": "Ot6aDmFNv93n"
      },
      "source": [
        "from sklearn import datasets\n",
        "from sklearn.model_selection import train_test_split\n",
        "\n",
        "iris = datasets.load_iris()\n",
        "atribut = iris.data\n",
        "label = iris.target\n",
        "\n",
        "# bagi dataset menjadi train set dan test set\n",
        "X_train, X_test, y_train, y_test = train_test_split(\n",
        "    atribut, label, test_size=0.2)"
      ],
      "execution_count": 1,
      "outputs": []
    },
    {
      "cell_type": "markdown",
      "metadata": {
        "id": "1HJmS20kwZwF"
      },
      "source": [
        "Hasil akurasi tanpa PCA"
      ]
    },
    {
      "cell_type": "code",
      "metadata": {
        "colab": {
          "base_uri": "https://localhost:8080/"
        },
        "id": "wVDWbBAiwJrl",
        "outputId": "59c19e1b-a366-42a9-c640-1a8c2618d0de"
      },
      "source": [
        "from sklearn import tree\n",
        "\n",
        "decision_tree = tree.DecisionTreeClassifier()\n",
        "model_pertama = decision_tree.fit(X_train, y_train)\n",
        "model_pertama.score(X_test, y_test)"
      ],
      "execution_count": 2,
      "outputs": [
        {
          "output_type": "execute_result",
          "data": {
            "text/plain": [
              "0.9333333333333333"
            ]
          },
          "metadata": {},
          "execution_count": 2
        }
      ]
    },
    {
      "cell_type": "code",
      "metadata": {
        "colab": {
          "base_uri": "https://localhost:8080/"
        },
        "id": "-NITYKznwZKw",
        "outputId": "decac4ea-98c4-4858-ac12-4b5fea7d252f"
      },
      "source": [
        "from sklearn.decomposition import PCA\n",
        "\n",
        "#membuat objek PCA dengan 4 principal component\n",
        "pca = PCA(n_components=4)\n",
        "\n",
        "#mengaplikasikan PCA pada dataset\n",
        "pca_attributes = pca.fit_transform(X_train)\n",
        "\n",
        "#melihat variance dari setiap atribut\n",
        "pca.explained_variance_ratio_"
      ],
      "execution_count": 3,
      "outputs": [
        {
          "output_type": "execute_result",
          "data": {
            "text/plain": [
              "array([0.9238366 , 0.05337373, 0.01764296, 0.00514671])"
            ]
          },
          "metadata": {},
          "execution_count": 3
        }
      ]
    },
    {
      "cell_type": "markdown",
      "metadata": {
        "id": "7LzQ_YOPZElS"
      },
      "source": [
        "Ambil atribut yang memiliki variance 0.921 dan 0.05"
      ]
    },
    {
      "cell_type": "code",
      "metadata": {
        "id": "Hl-cweoGZBk4"
      },
      "source": [
        "#PCA dengan 2 principal component\n",
        "pca = PCA(n_components=2)\n",
        "X_train_pca = pca.fit_transform(X_train)\n",
        "X_test_pca = pca.fit_transform(X_test)"
      ],
      "execution_count": 4,
      "outputs": []
    },
    {
      "cell_type": "code",
      "metadata": {
        "colab": {
          "base_uri": "https://localhost:8080/"
        },
        "id": "Z0_iYlb2ZYEq",
        "outputId": "93b9153e-24c3-4799-f4fc-e29514aca806"
      },
      "source": [
        "#uji akurasi classifier\n",
        "model2 = decision_tree.fit(X_train_pca, y_train)\n",
        "model2.score(X_test_pca, y_test)"
      ],
      "execution_count": 5,
      "outputs": [
        {
          "output_type": "execute_result",
          "data": {
            "text/plain": [
              "0.3333333333333333"
            ]
          },
          "metadata": {},
          "execution_count": 5
        }
      ]
    },
    {
      "cell_type": "markdown",
      "metadata": {
        "id": "YuimgqhZZmnb"
      },
      "source": [
        "Keterangan: Hanya dengan dua atribut kita telah mendapatkan akurasi yang tinggi. Denan atribut yang lebih sedikit, proses yang dijalankan menjadi singkat."
      ]
    }
  ]
}