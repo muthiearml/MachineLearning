{
  "nbformat": 4,
  "nbformat_minor": 0,
  "metadata": {
    "colab": {
      "provenance": [],
      "mount_file_id": "1Gcvan5plE16KiM-suSlmwOubn3Ia9YXb",
      "authorship_tag": "ABX9TyMl8SPmnlKFmylsi1GJ1+2Y",
      "include_colab_link": true
    },
    "kernelspec": {
      "name": "python3",
      "display_name": "Python 3"
    },
    "language_info": {
      "name": "python"
    }
  },
  "cells": [
    {
      "cell_type": "markdown",
      "metadata": {
        "id": "view-in-github",
        "colab_type": "text"
      },
      "source": [
        "<a href=\"https://colab.research.google.com/github/muthiearml/MachineLearning/blob/main/UTS_ML_XGBOOST_PetrolDataset.ipynb\" target=\"_parent\"><img src=\"https://colab.research.google.com/assets/colab-badge.svg\" alt=\"Open In Colab\"/></a>"
      ]
    },
    {
      "cell_type": "markdown",
      "source": [
        "#### Nama : Muthie Armalia Soeriamaritsa\n",
        "#### NIM : 1103200178\n",
        "#### Dataset yang dipakai : [Petrol Dataset June 20](https://www.kaggle.com/datasets/zusmani/petrolgas-prices-worldwide)\n"
      ],
      "metadata": {
        "id": "ynvLnlYhuiOf"
      }
    },
    {
      "cell_type": "markdown",
      "source": [
        "####Prompt ChatGPT:\n",
        "bagaimana cara menggunakan XGBoost untuk membangun model regresi yang memprediksi konsumsi minyak harian berdasarkan fitur-fitur lain dalam dataset.\n",
        "**Bagaimana implementasi kode nya beserta penjelasan tiap baris?**"
      ],
      "metadata": {
        "id": "mDE0eNfxyS29"
      }
    },
    {
      "cell_type": "code",
      "source": [
        "# Import library yang dibutuhkan\n",
        "import pandas as pd\n",
        "from sklearn.model_selection import train_test_split\n",
        "from xgboost import XGBRegressor\n",
        "from sklearn.metrics import mean_squared_error\n",
        "import matplotlib.pyplot as plt"
      ],
      "metadata": {
        "id": "na8hmGImHllg"
      },
      "execution_count": 59,
      "outputs": []
    },
    {
      "cell_type": "code",
      "source": [
        "# Membaca dataset\n",
        "df = pd.read_csv('/content/drive/MyDrive/S1 - Teknik Komputer/Dataset/NEW NEWPetrol Dataset June 20 2022.csv', encoding='ISO-8859-1')"
      ],
      "metadata": {
        "id": "AONK8I8-Hrx4"
      },
      "execution_count": 60,
      "outputs": []
    },
    {
      "cell_type": "code",
      "source": [
        "print(df.dtypes)"
      ],
      "metadata": {
        "colab": {
          "base_uri": "https://localhost:8080/"
        },
        "id": "Abx8J-WhJhqd",
        "outputId": "009772c3-1b6f-4569-c21c-169d0a6cdda3"
      },
      "execution_count": 62,
      "outputs": [
        {
          "output_type": "stream",
          "name": "stdout",
          "text": [
            "#                                    int64\n",
            "Country                             object\n",
            "Daily Oil Consumption (Barrels)      int64\n",
            "Yearly Gallons Per Capita          float64\n",
            "Price Per Gallon (USD)             float64\n",
            "Price Per Liter (USD)              float64\n",
            "Price Per Liter (PKR)              float64\n",
            "dtype: object\n"
          ]
        }
      ]
    },
    {
      "cell_type": "code",
      "source": [
        "print(df.columns)"
      ],
      "metadata": {
        "colab": {
          "base_uri": "https://localhost:8080/"
        },
        "id": "LVTvdLtwJoRI",
        "outputId": "26ebce6b-837f-4f4e-e72b-c7c17c347f8a"
      },
      "execution_count": 63,
      "outputs": [
        {
          "output_type": "stream",
          "name": "stdout",
          "text": [
            "Index(['#', 'Country', 'Daily Oil Consumption (Barrels)',\n",
            "       'Yearly Gallons Per Capita', 'Price Per Gallon (USD)',\n",
            "       'Price Per Liter (USD)', 'Price Per Liter (PKR)'],\n",
            "      dtype='object')\n"
          ]
        }
      ]
    },
    {
      "cell_type": "code",
      "source": [
        "print(df.head)"
      ],
      "metadata": {
        "colab": {
          "base_uri": "https://localhost:8080/"
        },
        "id": "hpVugQ9ldnIt",
        "outputId": "d2e188fb-8055-4572-8327-841e9e13c702"
      },
      "execution_count": 64,
      "outputs": [
        {
          "output_type": "stream",
          "name": "stdout",
          "text": [
            "<bound method NDFrame.head of        #                  Country  Daily Oil Consumption (Barrels)  \\\n",
            "0      1            United States                         19687287   \n",
            "1      2                    China                         12791553   \n",
            "2      3                    India                          4443000   \n",
            "3      4                    Japan                          4012877   \n",
            "4      5                   Russia                          3631287   \n",
            "..   ...                      ...                              ...   \n",
            "176  177  Saint Pierre & Miquelon                              660   \n",
            "177  178                 Kiribati                              400   \n",
            "178  179               Montserrat                              400   \n",
            "179  180             Saint Helena                               70   \n",
            "180  181                     Niue                               51   \n",
            "\n",
            "     Yearly Gallons Per Capita  Price Per Gallon (USD)  Price Per Liter (USD)  \\\n",
            "0                        934.3                    5.19                   1.37   \n",
            "1                        138.7                    5.42                   1.43   \n",
            "2                         51.4                    5.05                   1.33   \n",
            "3                        481.5                    4.69                   1.24   \n",
            "4                        383.2                    3.41                   0.90   \n",
            "..                         ...                     ...                    ...   \n",
            "176                     1705.1                    8.27                   2.19   \n",
            "177                       54.5                    4.09                   1.08   \n",
            "178                     1231.1                    4.57                   1.21   \n",
            "179                      180.2                    5.53                   1.46   \n",
            "180                      484.4                   11.43                   3.02   \n",
            "\n",
            "     Price Per Liter (PKR)  \n",
            "0                   289.97  \n",
            "1                   302.87  \n",
            "2                   281.93  \n",
            "3                   262.05  \n",
            "4                   190.56  \n",
            "..                     ...  \n",
            "176                 462.13  \n",
            "177                 228.42  \n",
            "178                 255.07  \n",
            "179                 309.21  \n",
            "180                 638.73  \n",
            "\n",
            "[181 rows x 7 columns]>\n"
          ]
        }
      ]
    },
    {
      "cell_type": "code",
      "source": [
        "# Memisahkan variabel dependen (target) dan variabel independen (fitur)\n",
        "X = df.drop(['#', 'Country', 'Daily Oil Consumption (Barrels)'], axis=1)\n",
        "y = df['Daily Oil Consumption (Barrels)']"
      ],
      "metadata": {
        "id": "Ebg2D69fnHPV"
      },
      "execution_count": 61,
      "outputs": []
    },
    {
      "cell_type": "code",
      "source": [
        "# Membagi data menjadi set pelatihan dan pengujian\n",
        "X_train, X_test, y_train, y_test = train_test_split(X, y, test_size=0.2, random_state=42)"
      ],
      "metadata": {
        "id": "mZenNUcBHysA"
      },
      "execution_count": 65,
      "outputs": []
    },
    {
      "cell_type": "code",
      "source": [
        "# Membangun model XGBoost Regressor\n",
        "model = XGBRegressor()\n",
        "model.fit(X_train, y_train)"
      ],
      "metadata": {
        "colab": {
          "base_uri": "https://localhost:8080/",
          "height": 248
        },
        "id": "uyylpLL3H1Yl",
        "outputId": "30294d6b-fc6d-489e-a01f-4a19e30d24c2"
      },
      "execution_count": 66,
      "outputs": [
        {
          "output_type": "execute_result",
          "data": {
            "text/plain": [
              "XGBRegressor(base_score=None, booster=None, callbacks=None,\n",
              "             colsample_bylevel=None, colsample_bynode=None,\n",
              "             colsample_bytree=None, device=None, early_stopping_rounds=None,\n",
              "             enable_categorical=False, eval_metric=None, feature_types=None,\n",
              "             gamma=None, grow_policy=None, importance_type=None,\n",
              "             interaction_constraints=None, learning_rate=None, max_bin=None,\n",
              "             max_cat_threshold=None, max_cat_to_onehot=None,\n",
              "             max_delta_step=None, max_depth=None, max_leaves=None,\n",
              "             min_child_weight=None, missing=nan, monotone_constraints=None,\n",
              "             multi_strategy=None, n_estimators=None, n_jobs=None,\n",
              "             num_parallel_tree=None, random_state=None, ...)"
            ],
            "text/html": [
              "<style>#sk-container-id-1 {color: black;background-color: white;}#sk-container-id-1 pre{padding: 0;}#sk-container-id-1 div.sk-toggleable {background-color: white;}#sk-container-id-1 label.sk-toggleable__label {cursor: pointer;display: block;width: 100%;margin-bottom: 0;padding: 0.3em;box-sizing: border-box;text-align: center;}#sk-container-id-1 label.sk-toggleable__label-arrow:before {content: \"▸\";float: left;margin-right: 0.25em;color: #696969;}#sk-container-id-1 label.sk-toggleable__label-arrow:hover:before {color: black;}#sk-container-id-1 div.sk-estimator:hover label.sk-toggleable__label-arrow:before {color: black;}#sk-container-id-1 div.sk-toggleable__content {max-height: 0;max-width: 0;overflow: hidden;text-align: left;background-color: #f0f8ff;}#sk-container-id-1 div.sk-toggleable__content pre {margin: 0.2em;color: black;border-radius: 0.25em;background-color: #f0f8ff;}#sk-container-id-1 input.sk-toggleable__control:checked~div.sk-toggleable__content {max-height: 200px;max-width: 100%;overflow: auto;}#sk-container-id-1 input.sk-toggleable__control:checked~label.sk-toggleable__label-arrow:before {content: \"▾\";}#sk-container-id-1 div.sk-estimator input.sk-toggleable__control:checked~label.sk-toggleable__label {background-color: #d4ebff;}#sk-container-id-1 div.sk-label input.sk-toggleable__control:checked~label.sk-toggleable__label {background-color: #d4ebff;}#sk-container-id-1 input.sk-hidden--visually {border: 0;clip: rect(1px 1px 1px 1px);clip: rect(1px, 1px, 1px, 1px);height: 1px;margin: -1px;overflow: hidden;padding: 0;position: absolute;width: 1px;}#sk-container-id-1 div.sk-estimator {font-family: monospace;background-color: #f0f8ff;border: 1px dotted black;border-radius: 0.25em;box-sizing: border-box;margin-bottom: 0.5em;}#sk-container-id-1 div.sk-estimator:hover {background-color: #d4ebff;}#sk-container-id-1 div.sk-parallel-item::after {content: \"\";width: 100%;border-bottom: 1px solid gray;flex-grow: 1;}#sk-container-id-1 div.sk-label:hover label.sk-toggleable__label {background-color: #d4ebff;}#sk-container-id-1 div.sk-serial::before {content: \"\";position: absolute;border-left: 1px solid gray;box-sizing: border-box;top: 0;bottom: 0;left: 50%;z-index: 0;}#sk-container-id-1 div.sk-serial {display: flex;flex-direction: column;align-items: center;background-color: white;padding-right: 0.2em;padding-left: 0.2em;position: relative;}#sk-container-id-1 div.sk-item {position: relative;z-index: 1;}#sk-container-id-1 div.sk-parallel {display: flex;align-items: stretch;justify-content: center;background-color: white;position: relative;}#sk-container-id-1 div.sk-item::before, #sk-container-id-1 div.sk-parallel-item::before {content: \"\";position: absolute;border-left: 1px solid gray;box-sizing: border-box;top: 0;bottom: 0;left: 50%;z-index: -1;}#sk-container-id-1 div.sk-parallel-item {display: flex;flex-direction: column;z-index: 1;position: relative;background-color: white;}#sk-container-id-1 div.sk-parallel-item:first-child::after {align-self: flex-end;width: 50%;}#sk-container-id-1 div.sk-parallel-item:last-child::after {align-self: flex-start;width: 50%;}#sk-container-id-1 div.sk-parallel-item:only-child::after {width: 0;}#sk-container-id-1 div.sk-dashed-wrapped {border: 1px dashed gray;margin: 0 0.4em 0.5em 0.4em;box-sizing: border-box;padding-bottom: 0.4em;background-color: white;}#sk-container-id-1 div.sk-label label {font-family: monospace;font-weight: bold;display: inline-block;line-height: 1.2em;}#sk-container-id-1 div.sk-label-container {text-align: center;}#sk-container-id-1 div.sk-container {/* jupyter's `normalize.less` sets `[hidden] { display: none; }` but bootstrap.min.css set `[hidden] { display: none !important; }` so we also need the `!important` here to be able to override the default hidden behavior on the sphinx rendered scikit-learn.org. See: https://github.com/scikit-learn/scikit-learn/issues/21755 */display: inline-block !important;position: relative;}#sk-container-id-1 div.sk-text-repr-fallback {display: none;}</style><div id=\"sk-container-id-1\" class=\"sk-top-container\"><div class=\"sk-text-repr-fallback\"><pre>XGBRegressor(base_score=None, booster=None, callbacks=None,\n",
              "             colsample_bylevel=None, colsample_bynode=None,\n",
              "             colsample_bytree=None, device=None, early_stopping_rounds=None,\n",
              "             enable_categorical=False, eval_metric=None, feature_types=None,\n",
              "             gamma=None, grow_policy=None, importance_type=None,\n",
              "             interaction_constraints=None, learning_rate=None, max_bin=None,\n",
              "             max_cat_threshold=None, max_cat_to_onehot=None,\n",
              "             max_delta_step=None, max_depth=None, max_leaves=None,\n",
              "             min_child_weight=None, missing=nan, monotone_constraints=None,\n",
              "             multi_strategy=None, n_estimators=None, n_jobs=None,\n",
              "             num_parallel_tree=None, random_state=None, ...)</pre><b>In a Jupyter environment, please rerun this cell to show the HTML representation or trust the notebook. <br />On GitHub, the HTML representation is unable to render, please try loading this page with nbviewer.org.</b></div><div class=\"sk-container\" hidden><div class=\"sk-item\"><div class=\"sk-estimator sk-toggleable\"><input class=\"sk-toggleable__control sk-hidden--visually\" id=\"sk-estimator-id-1\" type=\"checkbox\" checked><label for=\"sk-estimator-id-1\" class=\"sk-toggleable__label sk-toggleable__label-arrow\">XGBRegressor</label><div class=\"sk-toggleable__content\"><pre>XGBRegressor(base_score=None, booster=None, callbacks=None,\n",
              "             colsample_bylevel=None, colsample_bynode=None,\n",
              "             colsample_bytree=None, device=None, early_stopping_rounds=None,\n",
              "             enable_categorical=False, eval_metric=None, feature_types=None,\n",
              "             gamma=None, grow_policy=None, importance_type=None,\n",
              "             interaction_constraints=None, learning_rate=None, max_bin=None,\n",
              "             max_cat_threshold=None, max_cat_to_onehot=None,\n",
              "             max_delta_step=None, max_depth=None, max_leaves=None,\n",
              "             min_child_weight=None, missing=nan, monotone_constraints=None,\n",
              "             multi_strategy=None, n_estimators=None, n_jobs=None,\n",
              "             num_parallel_tree=None, random_state=None, ...)</pre></div></div></div></div></div>"
            ]
          },
          "metadata": {},
          "execution_count": 66
        }
      ]
    },
    {
      "cell_type": "code",
      "source": [
        "# Melakukan prediksi menggunakan data pengujian\n",
        "predictions = model.predict(X_test)"
      ],
      "metadata": {
        "id": "F6PhUL-1H4BD"
      },
      "execution_count": 67,
      "outputs": []
    },
    {
      "cell_type": "code",
      "source": [
        "# Evaluasi kinerja model menggunakan Mean Squared Error\n",
        "mse = mean_squared_error(y_test, predictions)\n",
        "print(f'Mean Squared Error: {mse}')"
      ],
      "metadata": {
        "colab": {
          "base_uri": "https://localhost:8080/"
        },
        "id": "cF3ExKbYH7M8",
        "outputId": "28e5cd68-c6c1-494b-b487-493425a4fef8"
      },
      "execution_count": 68,
      "outputs": [
        {
          "output_type": "stream",
          "name": "stdout",
          "text": [
            "Mean Squared Error: 10374006216154.594\n"
          ]
        }
      ]
    },
    {
      "cell_type": "code",
      "execution_count": 69,
      "metadata": {
        "colab": {
          "base_uri": "https://localhost:8080/",
          "height": 472
        },
        "id": "EocIxwFqHfmg",
        "outputId": "d33b3d17-c69f-4802-abbc-7e42e8e6afcd"
      },
      "outputs": [
        {
          "output_type": "display_data",
          "data": {
            "text/plain": [
              "<Figure size 640x480 with 1 Axes>"
            ],
            "image/png": "[encoded data removed]"
          },
          "metadata": {}
        }
      ],
      "source": [
        "# Plot hasil prediksi vs nilai sebenarnya\n",
        "plt.scatter(y_test, predictions)\n",
        "plt.xlabel('Nilai Sebenarnya')\n",
        "plt.ylabel('Prediksi')\n",
        "plt.title('Prediksi vs Nilai Sebenarnya')\n",
        "plt.show()\n"
      ]
    },
    {
      "cell_type": "code",
      "source": [
        "# Import library yang dibutuhkan\n",
        "import pandas as pd\n",
        "from sklearn.model_selection import train_test_split\n",
        "from xgboost import XGBRegressor\n",
        "from sklearn.metrics import mean_squared_error\n",
        "import matplotlib.pyplot as plt\n",
        "\n",
        "# Membaca dataset\n",
        "df = pd.read_csv('/content/drive/MyDrive/S1 - Teknik Komputer/Dataset/NEW NEWPetrol Dataset June 20 2022.csv')  # Ganti 'nama_file.csv' dengan nama file dataset Anda\n",
        "\n",
        "# Memisahkan variabel dependen dan independen\n",
        "X = df.drop(['#', 'Country', 'Daily Oil Consumption (Barrels)'], axis=1)\n",
        "y = df['Daily Oil Consumption (Barrels)']\n",
        "\n",
        "# Membagi data menjadi set pelatihan dan pengujian\n",
        "X_train, X_test, y_train, y_test = train_test_split(X, y, test_size=0.2, random_state=42)\n",
        "\n",
        "# Membangun model XGBoost Regressor\n",
        "model = XGBRegressor()\n",
        "model.fit(X_train, y_train)\n",
        "\n",
        "# Melakukan prediksi menggunakan data pengujian\n",
        "predictions = model.predict(X_test)\n",
        "\n",
        "# Membuat DataFrame untuk perbandingan nilai sebenarnya dan nilai prediksi\n",
        "comparison_df = pd.DataFrame({'Negara': df.loc[X_test.index, 'Country'],\n",
        "                              'Nilai Sebenarnya': y_test,\n",
        "                              'Nilai Prediksi': predictions})\n",
        "\n",
        "# Menampilkan DataFrame perbandingan\n",
        "print(comparison_df.head())\n",
        "\n",
        "# Plot hasil perbandingan\n",
        "plt.scatter(comparison_df['Nilai Sebenarnya'], comparison_df['Nilai Prediksi'])\n",
        "plt.xlabel('Nilai Sebenarnya')\n",
        "plt.ylabel('Prediksi')\n",
        "plt.title('Perbandingan Nilai Sebenarnya dan Prediksi per Negara')\n",
        "plt.show()\n"
      ],
      "metadata": {
        "colab": {
          "base_uri": "https://localhost:8080/",
          "height": 591
        },
        "id": "Mr-3h2NanexW",
        "outputId": "b72f44ea-1043-40d6-fb0c-122040643241"
      },
      "execution_count": 70,
      "outputs": [
        {
          "output_type": "stream",
          "name": "stdout",
          "text": [
            "        Negara  Nilai Sebenarnya  Nilai Prediksi\n",
            "19   Australia           1114645    1.812084e+06\n",
            "42     Morocco            275000    1.894094e+05\n",
            "153    Liberia              8000    2.529472e+04\n",
            "78     Belarus            137000    1.116311e+06\n",
            "145       Fiji             16000    3.565881e+05\n"
          ]
        },
        {
          "output_type": "display_data",
          "data": {
            "text/plain": [
              "<Figure size 640x480 with 1 Axes>"
            ],
            "image/png": "[encoded data removed]"
          },
          "metadata": {}
        }
      ]
    },
    {
      "cell_type": "markdown",
      "source": [
        "#### Prompt ChatGPT:\n",
        "**menampilkan semua data dari perbandingan hasil prediksi dengan data asli**"
      ],
      "metadata": {
        "id": "utwEOQ2h0XX0"
      }
    },
    {
      "cell_type": "code",
      "source": [
        "# Menampilkan DataFrame perbandingan\n",
        "print(comparison_df)"
      ],
      "metadata": {
        "colab": {
          "base_uri": "https://localhost:8080/"
        },
        "id": "m88AgVqJtqiB",
        "outputId": "3dcf617f-2a85-427f-a7f2-26fb628934b4"
      },
      "execution_count": 71,
      "outputs": [
        {
          "output_type": "stream",
          "name": "stdout",
          "text": [
            "                     Negara  Nilai Sebenarnya  Nilai Prediksi\n",
            "19                Australia           1114645    1.812084e+06\n",
            "42                  Morocco            275000    1.894094e+05\n",
            "153                 Liberia              8000    2.529472e+04\n",
            "78                  Belarus            137000    1.116311e+06\n",
            "145                    Fiji             16000    3.565881e+05\n",
            "15                Singapore           1357000    2.635298e+04\n",
            "24                     Iraq            857000    6.205696e+05\n",
            "68                  Myanmar            123000    4.509730e+04\n",
            "113               Nicaragua             37000    1.408337e+05\n",
            "118                  Uganda             32001   -5.407402e+02\n",
            "93      Trinidad and Tobago             57000    9.533061e+05\n",
            "159                  Malawi              6001   -1.665977e+04\n",
            "69                    Kenya            114000    5.762369e+02\n",
            "142                 Moldova             18001    1.190945e+05\n",
            "45               Kazakhstan            325000    5.741569e+05\n",
            "16                 Thailand           1302000    4.623731e+05\n",
            "51                  Hungary            155544    1.668819e+05\n",
            "125            Burkina Faso             23000    1.840933e+04\n",
            "96                  Jamaica             54000   -1.043095e+05\n",
            "56              Switzerland            228194    1.700452e+06\n",
            "97                  Uruguay             53000    2.575913e+05\n",
            "120               Mauritius             28000   -2.835540e+05\n",
            "143                   Congo             17000    3.435026e+06\n",
            "30                 Pakistan            556000    2.253560e+04\n",
            "9                   Germany           2383393    2.124728e+05\n",
            "172                Dominica              1301    3.064686e+05\n",
            "60                    Libya            223000    1.091829e+06\n",
            "18                    Spain           1290063    1.286436e+06\n",
            "148                  Guyana             14000    1.253477e+05\n",
            "173  British Virgin Islands              1240    9.846416e+05\n",
            "109                Cameroon             40000   -4.087087e+03\n",
            "55             Turkmenistan            149000    2.055134e+06\n",
            "140              Madagascar             18000   -3.365256e+03\n",
            "126                   Haiti             23000    3.818154e+04\n",
            "66                    Qatar            172000    1.899483e+07\n",
            "29                  Belgium            631522    8.659398e+05\n",
            "117                 Georgia             33000   -8.041370e+02\n"
          ]
        }
      ]
    },
    {
      "cell_type": "markdown",
      "source": [
        "####Kesimpulan :\n",
        "Nilai MSE yang tinggi menunjukkan error yang tinggi sebagaimana penjelasan dari ChatGPT\n",
        "Jika output Mean Squared Error adalah 10,374,006,216,154.594, maka dapat diinterpretasikan sebagai berikut:\n",
        "\n",
        "Nilai Error yang Tinggi: MSE yang sangat besar (dalam miliaran) menunjukkan bahwa model memiliki tingkat kesalahan yang tinggi dalam memprediksi konsumsi minyak harian. Model ini cenderung memberikan prediksi yang jauh dari nilai sebenarnya.\n",
        "\n",
        "Kesesuaian Model: Dalam kasus ini, model mungkin tidak sangat cocok atau butuh penyesuaian lebih lanjut. Nilai error yang besar dapat disebabkan oleh berbagai faktor, seperti kekurangan data, pemilihan fitur yang tidak tepat, atau pengaturan parameter model yang tidak optimal.\n",
        "\n",
        "Perbaikan Model: Jika MSE tinggi, Anda mungkin ingin mempertimbangkan untuk melakukan pemilihan fitur yang lebih cermat, penyetelan parameter model, atau bahkan mencoba model regresi lainnya."
      ],
      "metadata": {
        "id": "_jQXBlPU8Amb"
      }
    },
    {
      "cell_type": "markdown",
      "source": [
        "Lalu, setelah dilakukan prediksi dan menganalisis, saya rasa dataset yang saya gunakan kurang tepat untuk prediksi konsumsi minyak harian per negara. Sebab, tiap negara hanya mempunyai satu data nilai konsumsi harian."
      ],
      "metadata": {
        "id": "-knPYATX8YYx"
      }
    }
  ]
}